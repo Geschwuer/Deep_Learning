{
 "cells": [
  {
   "cell_type": "code",
   "execution_count": 2,
   "id": "4a6e6ea9",
   "metadata": {},
   "outputs": [
    {
     "data": {
      "text/plain": [
       "(8, 10)"
      ]
     },
     "execution_count": 2,
     "metadata": {},
     "output_type": "execute_result"
    }
   ],
   "source": [
    "import numpy as np\n",
    "\n",
    "arr = np.random.randn(8, 5)\n",
    "arr2 = np.random.randn(5, 10)\n",
    "res = np.matmul(arr, arr2)\n",
    "res.shape"
   ]
  },
  {
   "cell_type": "code",
   "execution_count": 12,
   "id": "b4e918b6",
   "metadata": {},
   "outputs": [
    {
     "name": "stdout",
     "output_type": "stream",
     "text": [
      "[[3]\n",
      " [6]\n",
      " [9]]\n",
      "[[-2 -1  0]\n",
      " [-2 -1  0]\n",
      " [-2 -1  0]]\n"
     ]
    }
   ],
   "source": [
    "import numpy as np\n",
    "\n",
    "X = np.array([[1, 2, 3],\n",
    "              [4, 5, 6],\n",
    "              [7, 8, 9]])\n",
    "X_max = np.max(X, axis=1, keepdims=True)  # shape: (batch_size, 1)\n",
    "X_centered = X - X_max\n",
    "\n",
    "print(X_max)\n",
    "print(X_centered)"
   ]
  },
  {
   "cell_type": "code",
   "execution_count": null,
   "id": "9346040c",
   "metadata": {},
   "outputs": [
    {
     "ename": "AttributeError",
     "evalue": "type object 'finfo' has no attribute 'eps'",
     "output_type": "error",
     "traceback": [
      "\u001b[1;31m---------------------------------------------------------------------------\u001b[0m",
      "\u001b[1;31mAttributeError\u001b[0m                            Traceback (most recent call last)",
      "Cell \u001b[1;32mIn[13], line 1\u001b[0m\n\u001b[1;32m----> 1\u001b[0m \u001b[43mnp\u001b[49m\u001b[38;5;241;43m.\u001b[39;49m\u001b[43mfinfo\u001b[49m\u001b[38;5;241;43m.\u001b[39;49m\u001b[43meps\u001b[49m\n",
      "\u001b[1;31mAttributeError\u001b[0m: type object 'finfo' has no attribute 'eps'"
     ]
    }
   ],
   "source": [
    "print(np.finfo(float).eps)"
   ]
  }
 ],
 "metadata": {
  "kernelspec": {
   "display_name": "ml-env",
   "language": "python",
   "name": "python3"
  },
  "language_info": {
   "codemirror_mode": {
    "name": "ipython",
    "version": 3
   },
   "file_extension": ".py",
   "mimetype": "text/x-python",
   "name": "python",
   "nbconvert_exporter": "python",
   "pygments_lexer": "ipython3",
   "version": "3.9.15"
  }
 },
 "nbformat": 4,
 "nbformat_minor": 5
}
