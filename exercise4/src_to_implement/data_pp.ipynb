{
 "cells": [
  {
   "cell_type": "code",
   "execution_count": 18,
   "id": "d3f9bf32",
   "metadata": {},
   "outputs": [],
   "source": [
    "from data import ChallengeDataset\n",
    "import pandas as pd\n",
    "import numpy as np\n",
    "import seaborn as sns\n",
    "import matplotlib.pyplot as plt\n",
    "from sklearn.model_selection import train_test_split"
   ]
  },
  {
   "cell_type": "code",
   "execution_count": 4,
   "id": "a39e3525",
   "metadata": {},
   "outputs": [
    {
     "data": {
      "application/vnd.microsoft.datawrangler.viewer.v0+json": {
       "columns": [
        {
         "name": "index",
         "rawType": "int64",
         "type": "integer"
        },
        {
         "name": "filename",
         "rawType": "object",
         "type": "string"
        },
        {
         "name": "crack",
         "rawType": "int64",
         "type": "integer"
        },
        {
         "name": "inactive",
         "rawType": "int64",
         "type": "integer"
        }
       ],
       "ref": "d48983ff-dfda-4a8e-bc42-3a3a38c1effe",
       "rows": [
        [
         "0",
         "images/cell2044.png",
         "1",
         "0"
        ],
        [
         "1",
         "images/cell0123.png",
         "0",
         "0"
        ],
        [
         "2",
         "images/cell2241.png",
         "0",
         "0"
        ],
        [
         "3",
         "images/cell2426.png",
         "0",
         "0"
        ],
        [
         "4",
         "images/cell1552.png",
         "0",
         "0"
        ],
        [
         "5",
         "images/cell0813.png",
         "0",
         "0"
        ],
        [
         "6",
         "images/cell1251.png",
         "0",
         "0"
        ],
        [
         "7",
         "images/cell1221.png",
         "0",
         "0"
        ],
        [
         "8",
         "images/cell1456.png",
         "1",
         "0"
        ],
        [
         "9",
         "images/cell1927.png",
         "0",
         "0"
        ],
        [
         "10",
         "images/cell1283.png",
         "0",
         "0"
        ],
        [
         "11",
         "images/cell1575.png",
         "0",
         "0"
        ],
        [
         "12",
         "images/cell1263.png",
         "0",
         "0"
        ],
        [
         "13",
         "images/cell0614.png",
         "1",
         "0"
        ],
        [
         "14",
         "images/cell0718.png",
         "0",
         "0"
        ],
        [
         "15",
         "images/cell1809.png",
         "0",
         "0"
        ],
        [
         "16",
         "images/cell1275.png",
         "0",
         "0"
        ],
        [
         "17",
         "images/cell1161.png",
         "1",
         "0"
        ],
        [
         "18",
         "images/cell1725.png",
         "0",
         "0"
        ],
        [
         "19",
         "images/cell0249.png",
         "1",
         "1"
        ],
        [
         "20",
         "images/cell2484.png",
         "0",
         "0"
        ],
        [
         "21",
         "images/cell0332.png",
         "0",
         "0"
        ],
        [
         "22",
         "images/cell0802.png",
         "0",
         "0"
        ],
        [
         "23",
         "images/cell1150.png",
         "0",
         "0"
        ],
        [
         "24",
         "images/cell2310.png",
         "0",
         "0"
        ],
        [
         "25",
         "images/cell2427.png",
         "1",
         "0"
        ],
        [
         "26",
         "images/cell2230.png",
         "0",
         "0"
        ],
        [
         "27",
         "images/cell1362.png",
         "0",
         "0"
        ],
        [
         "28",
         "images/cell2516.png",
         "1",
         "0"
        ],
        [
         "29",
         "images/cell2538.png",
         "1",
         "0"
        ],
        [
         "30",
         "images/cell0838.png",
         "0",
         "0"
        ],
        [
         "31",
         "images/cell1471.png",
         "0",
         "0"
        ],
        [
         "32",
         "images/cell0097.png",
         "0",
         "0"
        ],
        [
         "33",
         "images/cell2257.png",
         "0",
         "0"
        ],
        [
         "34",
         "images/cell1039.png",
         "0",
         "0"
        ],
        [
         "35",
         "images/cell2308.png",
         "0",
         "0"
        ],
        [
         "36",
         "images/cell1893.png",
         "0",
         "0"
        ],
        [
         "37",
         "images/cell1549.png",
         "0",
         "0"
        ],
        [
         "38",
         "images/cell1417.png",
         "0",
         "0"
        ],
        [
         "39",
         "images/cell1357.png",
         "0",
         "0"
        ],
        [
         "40",
         "images/cell0037.png",
         "1",
         "0"
        ],
        [
         "41",
         "images/cell0036.png",
         "1",
         "0"
        ],
        [
         "42",
         "images/cell1611.png",
         "0",
         "0"
        ],
        [
         "43",
         "images/cell0484.png",
         "1",
         "1"
        ],
        [
         "44",
         "images/cell1755.png",
         "0",
         "0"
        ],
        [
         "45",
         "images/cell2003.png",
         "0",
         "0"
        ],
        [
         "46",
         "images/cell0888.png",
         "1",
         "0"
        ],
        [
         "47",
         "images/cell0179.png",
         "0",
         "0"
        ],
        [
         "48",
         "images/cell2043.png",
         "0",
         "0"
        ],
        [
         "49",
         "images/cell1651.png",
         "1",
         "1"
        ]
       ],
       "shape": {
        "columns": 3,
        "rows": 2000
       }
      },
      "text/html": [
       "<div>\n",
       "<style scoped>\n",
       "    .dataframe tbody tr th:only-of-type {\n",
       "        vertical-align: middle;\n",
       "    }\n",
       "\n",
       "    .dataframe tbody tr th {\n",
       "        vertical-align: top;\n",
       "    }\n",
       "\n",
       "    .dataframe thead th {\n",
       "        text-align: right;\n",
       "    }\n",
       "</style>\n",
       "<table border=\"1\" class=\"dataframe\">\n",
       "  <thead>\n",
       "    <tr style=\"text-align: right;\">\n",
       "      <th></th>\n",
       "      <th>filename</th>\n",
       "      <th>crack</th>\n",
       "      <th>inactive</th>\n",
       "    </tr>\n",
       "  </thead>\n",
       "  <tbody>\n",
       "    <tr>\n",
       "      <th>0</th>\n",
       "      <td>images/cell2044.png</td>\n",
       "      <td>1</td>\n",
       "      <td>0</td>\n",
       "    </tr>\n",
       "    <tr>\n",
       "      <th>1</th>\n",
       "      <td>images/cell0123.png</td>\n",
       "      <td>0</td>\n",
       "      <td>0</td>\n",
       "    </tr>\n",
       "    <tr>\n",
       "      <th>2</th>\n",
       "      <td>images/cell2241.png</td>\n",
       "      <td>0</td>\n",
       "      <td>0</td>\n",
       "    </tr>\n",
       "    <tr>\n",
       "      <th>3</th>\n",
       "      <td>images/cell2426.png</td>\n",
       "      <td>0</td>\n",
       "      <td>0</td>\n",
       "    </tr>\n",
       "    <tr>\n",
       "      <th>4</th>\n",
       "      <td>images/cell1552.png</td>\n",
       "      <td>0</td>\n",
       "      <td>0</td>\n",
       "    </tr>\n",
       "    <tr>\n",
       "      <th>...</th>\n",
       "      <td>...</td>\n",
       "      <td>...</td>\n",
       "      <td>...</td>\n",
       "    </tr>\n",
       "    <tr>\n",
       "      <th>1995</th>\n",
       "      <td>images/cell1615.png</td>\n",
       "      <td>1</td>\n",
       "      <td>1</td>\n",
       "    </tr>\n",
       "    <tr>\n",
       "      <th>1996</th>\n",
       "      <td>images/cell0444.png</td>\n",
       "      <td>1</td>\n",
       "      <td>1</td>\n",
       "    </tr>\n",
       "    <tr>\n",
       "      <th>1997</th>\n",
       "      <td>images/cell1414.png</td>\n",
       "      <td>0</td>\n",
       "      <td>0</td>\n",
       "    </tr>\n",
       "    <tr>\n",
       "      <th>1998</th>\n",
       "      <td>images/cell1300.png</td>\n",
       "      <td>0</td>\n",
       "      <td>0</td>\n",
       "    </tr>\n",
       "    <tr>\n",
       "      <th>1999</th>\n",
       "      <td>images/cell1103.png</td>\n",
       "      <td>0</td>\n",
       "      <td>0</td>\n",
       "    </tr>\n",
       "  </tbody>\n",
       "</table>\n",
       "<p>2000 rows × 3 columns</p>\n",
       "</div>"
      ],
      "text/plain": [
       "                 filename  crack  inactive\n",
       "0     images/cell2044.png      1         0\n",
       "1     images/cell0123.png      0         0\n",
       "2     images/cell2241.png      0         0\n",
       "3     images/cell2426.png      0         0\n",
       "4     images/cell1552.png      0         0\n",
       "...                   ...    ...       ...\n",
       "1995  images/cell1615.png      1         1\n",
       "1996  images/cell0444.png      1         1\n",
       "1997  images/cell1414.png      0         0\n",
       "1998  images/cell1300.png      0         0\n",
       "1999  images/cell1103.png      0         0\n",
       "\n",
       "[2000 rows x 3 columns]"
      ]
     },
     "execution_count": 4,
     "metadata": {},
     "output_type": "execute_result"
    }
   ],
   "source": [
    "df = pd.read_csv('data.csv', sep=';')\n",
    "df"
   ]
  },
  {
   "cell_type": "code",
   "execution_count": 19,
   "id": "34e0afc2",
   "metadata": {},
   "outputs": [],
   "source": [
    "train, val = train_test_split(df, test_size=0.2, random_state=42)"
   ]
  },
  {
   "cell_type": "code",
   "execution_count": 20,
   "id": "e41de878",
   "metadata": {},
   "outputs": [
    {
     "data": {
      "text/plain": [
       "1600"
      ]
     },
     "execution_count": 20,
     "metadata": {},
     "output_type": "execute_result"
    }
   ],
   "source": [
    "# balance training dataset\n",
    "len(train)"
   ]
  },
  {
   "cell_type": "code",
   "execution_count": 21,
   "id": "10267d0f",
   "metadata": {},
   "outputs": [
    {
     "name": "stderr",
     "output_type": "stream",
     "text": [
      "c:\\Users\\MaxM\\miniconda3\\envs\\detect-defect-solar-cells\\lib\\site-packages\\ipykernel_launcher.py:1: SettingWithCopyWarning: \n",
      "A value is trying to be set on a copy of a slice from a DataFrame.\n",
      "Try using .loc[row_indexer,col_indexer] = value instead\n",
      "\n",
      "See the caveats in the documentation: https://pandas.pydata.org/pandas-docs/stable/user_guide/indexing.html#returning-a-view-versus-a-copy\n",
      "  \"\"\"Entry point for launching an IPython kernel.\n"
     ]
    }
   ],
   "source": [
    "train[\"class_combo\"] = train[\"class_combo\"] = train.apply(lambda row: f\"{row['crack']}_{row['inactive']}\", axis=1)"
   ]
  },
  {
   "cell_type": "code",
   "execution_count": 22,
   "id": "9ca4af1f",
   "metadata": {},
   "outputs": [
    {
     "data": {
      "application/vnd.microsoft.datawrangler.viewer.v0+json": {
       "columns": [
        {
         "name": "index",
         "rawType": "int64",
         "type": "integer"
        },
        {
         "name": "filename",
         "rawType": "object",
         "type": "string"
        },
        {
         "name": "crack",
         "rawType": "int64",
         "type": "integer"
        },
        {
         "name": "inactive",
         "rawType": "int64",
         "type": "integer"
        },
        {
         "name": "class_combo",
         "rawType": "object",
         "type": "string"
        }
       ],
       "ref": "7af0929f-abc6-4acb-a298-0f241ccbe523",
       "rows": [
        [
         "968",
         "images/cell2358.png",
         "0",
         "0",
         "0_0"
        ],
        [
         "240",
         "images/cell0632.png",
         "0",
         "0",
         "0_0"
        ],
        [
         "819",
         "images/cell2445.png",
         "0",
         "0",
         "0_0"
        ],
        [
         "692",
         "images/cell2159.png",
         "0",
         "0",
         "0_0"
        ],
        [
         "420",
         "images/cell0074.png",
         "0",
         "0",
         "0_0"
        ]
       ],
       "shape": {
        "columns": 4,
        "rows": 5
       }
      },
      "text/html": [
       "<div>\n",
       "<style scoped>\n",
       "    .dataframe tbody tr th:only-of-type {\n",
       "        vertical-align: middle;\n",
       "    }\n",
       "\n",
       "    .dataframe tbody tr th {\n",
       "        vertical-align: top;\n",
       "    }\n",
       "\n",
       "    .dataframe thead th {\n",
       "        text-align: right;\n",
       "    }\n",
       "</style>\n",
       "<table border=\"1\" class=\"dataframe\">\n",
       "  <thead>\n",
       "    <tr style=\"text-align: right;\">\n",
       "      <th></th>\n",
       "      <th>filename</th>\n",
       "      <th>crack</th>\n",
       "      <th>inactive</th>\n",
       "      <th>class_combo</th>\n",
       "    </tr>\n",
       "  </thead>\n",
       "  <tbody>\n",
       "    <tr>\n",
       "      <th>968</th>\n",
       "      <td>images/cell2358.png</td>\n",
       "      <td>0</td>\n",
       "      <td>0</td>\n",
       "      <td>0_0</td>\n",
       "    </tr>\n",
       "    <tr>\n",
       "      <th>240</th>\n",
       "      <td>images/cell0632.png</td>\n",
       "      <td>0</td>\n",
       "      <td>0</td>\n",
       "      <td>0_0</td>\n",
       "    </tr>\n",
       "    <tr>\n",
       "      <th>819</th>\n",
       "      <td>images/cell2445.png</td>\n",
       "      <td>0</td>\n",
       "      <td>0</td>\n",
       "      <td>0_0</td>\n",
       "    </tr>\n",
       "    <tr>\n",
       "      <th>692</th>\n",
       "      <td>images/cell2159.png</td>\n",
       "      <td>0</td>\n",
       "      <td>0</td>\n",
       "      <td>0_0</td>\n",
       "    </tr>\n",
       "    <tr>\n",
       "      <th>420</th>\n",
       "      <td>images/cell0074.png</td>\n",
       "      <td>0</td>\n",
       "      <td>0</td>\n",
       "      <td>0_0</td>\n",
       "    </tr>\n",
       "  </tbody>\n",
       "</table>\n",
       "</div>"
      ],
      "text/plain": [
       "                filename  crack  inactive class_combo\n",
       "968  images/cell2358.png      0         0         0_0\n",
       "240  images/cell0632.png      0         0         0_0\n",
       "819  images/cell2445.png      0         0         0_0\n",
       "692  images/cell2159.png      0         0         0_0\n",
       "420  images/cell0074.png      0         0         0_0"
      ]
     },
     "execution_count": 22,
     "metadata": {},
     "output_type": "execute_result"
    }
   ],
   "source": [
    "train.head()"
   ]
  },
  {
   "cell_type": "code",
   "execution_count": 48,
   "id": "f78dfff7",
   "metadata": {},
   "outputs": [
    {
     "data": {
      "text/plain": [
       "[1236, 10, 269, 85]"
      ]
     },
     "execution_count": 48,
     "metadata": {},
     "output_type": "execute_result"
    }
   ],
   "source": [
    "num00 = len(train[train[\"class_combo\"] == \"0_0\"])\n",
    "num01 = len(train[train[\"class_combo\"] == \"0_1\"])\n",
    "num10 = len(train[train[\"class_combo\"] == \"1_0\"])\n",
    "num11 = len(train[train[\"class_combo\"] == \"1_1\"])\n",
    "\n",
    "label_counts = [num00, num01, num10, num11]\n",
    "label_counts\n"
   ]
  },
  {
   "cell_type": "code",
   "execution_count": 53,
   "id": "6c5174bf",
   "metadata": {},
   "outputs": [
    {
     "data": {
      "text/plain": [
       "[-736, 490, 231, 415]"
      ]
     },
     "execution_count": 53,
     "metadata": {},
     "output_type": "execute_result"
    }
   ],
   "source": [
    "# calc balancing factors\n",
    "balancing_fac = []\n",
    "for count in label_counts:\n",
    "    balancing_fac.append((500-count)) #500 samples per clas\n",
    "balancing_fac"
   ]
  },
  {
   "cell_type": "code",
   "execution_count": 85,
   "id": "c2661268",
   "metadata": {},
   "outputs": [
    {
     "data": {
      "application/vnd.microsoft.datawrangler.viewer.v0+json": {
       "columns": [
        {
         "name": "index",
         "rawType": "int64",
         "type": "integer"
        },
        {
         "name": "filename",
         "rawType": "object",
         "type": "string"
        },
        {
         "name": "crack",
         "rawType": "int64",
         "type": "integer"
        },
        {
         "name": "inactive",
         "rawType": "int64",
         "type": "integer"
        },
        {
         "name": "class_combo",
         "rawType": "object",
         "type": "string"
        }
       ],
       "ref": "30048773-267d-4737-b5d5-71dfb103dea7",
       "rows": [
        [
         "592",
         "images/cell1445.png",
         "0",
         "0",
         "0_0"
        ],
        [
         "1002",
         "images/cell1186.png",
         "0",
         "0",
         "0_0"
        ],
        [
         "1152",
         "images/cell1620.png",
         "0",
         "0",
         "0_0"
        ],
        [
         "1484",
         "images/cell0300.png",
         "0",
         "0",
         "0_0"
        ],
        [
         "1410",
         "images/cell0205.png",
         "0",
         "0",
         "0_0"
        ],
        [
         "274",
         "images/cell1451.png",
         "0",
         "0",
         "0_0"
        ],
        [
         "503",
         "images/cell1170.png",
         "0",
         "0",
         "0_0"
        ],
        [
         "892",
         "images/cell1408.png",
         "0",
         "0",
         "0_0"
        ],
        [
         "1160",
         "images/cell1313.png",
         "0",
         "0",
         "0_0"
        ],
        [
         "288",
         "images/cell1038.png",
         "0",
         "0",
         "0_0"
        ],
        [
         "50",
         "images/cell2334.png",
         "0",
         "0",
         "0_0"
        ],
        [
         "756",
         "images/cell2246.png",
         "0",
         "0",
         "0_0"
        ],
        [
         "1276",
         "images/cell1536.png",
         "0",
         "0",
         "0_0"
        ],
        [
         "1780",
         "images/cell0334.png",
         "0",
         "0",
         "0_0"
        ],
        [
         "1596",
         "images/cell0207.png",
         "0",
         "0",
         "0_0"
        ],
        [
         "923",
         "images/cell1733.png",
         "0",
         "0",
         "0_0"
        ],
        [
         "769",
         "images/cell0174.png",
         "0",
         "0",
         "0_0"
        ],
        [
         "1822",
         "images/cell2111.png",
         "0",
         "0",
         "0_0"
        ],
        [
         "1755",
         "images/cell2198.png",
         "0",
         "0",
         "0_0"
        ],
        [
         "166",
         "images/cell1786.png",
         "0",
         "0",
         "0_0"
        ],
        [
         "714",
         "images/cell2479.png",
         "0",
         "0",
         "0_0"
        ],
        [
         "1800",
         "images/cell0216.png",
         "0",
         "0",
         "0_0"
        ],
        [
         "31",
         "images/cell1471.png",
         "0",
         "0",
         "0_0"
        ],
        [
         "278",
         "images/cell2592.png",
         "0",
         "0",
         "0_0"
        ],
        [
         "1723",
         "images/cell1072.png",
         "0",
         "0",
         "0_0"
        ],
        [
         "321",
         "images/cell0042.png",
         "0",
         "0",
         "0_0"
        ],
        [
         "1678",
         "images/cell1029.png",
         "0",
         "0",
         "0_0"
        ],
        [
         "1817",
         "images/cell1277.png",
         "0",
         "0",
         "0_0"
        ],
        [
         "1958",
         "images/cell1561.png",
         "0",
         "0",
         "0_0"
        ],
        [
         "207",
         "images/cell2512.png",
         "0",
         "0",
         "0_0"
        ],
        [
         "58",
         "images/cell1898.png",
         "0",
         "0",
         "0_0"
        ],
        [
         "1603",
         "images/cell1511.png",
         "0",
         "0",
         "0_0"
        ],
        [
         "475",
         "images/cell1602.png",
         "0",
         "0",
         "0_0"
        ],
        [
         "1603",
         "images/cell1511.png",
         "0",
         "0",
         "0_0"
        ],
        [
         "204",
         "images/cell0079.png",
         "0",
         "0",
         "0_0"
        ],
        [
         "512",
         "images/cell1347.png",
         "0",
         "0",
         "0_0"
        ],
        [
         "1886",
         "images/cell2595.png",
         "0",
         "0",
         "0_0"
        ],
        [
         "731",
         "images/cell2568.png",
         "0",
         "0",
         "0_0"
        ],
        [
         "593",
         "images/cell1694.png",
         "0",
         "0",
         "0_0"
        ],
        [
         "830",
         "images/cell2405.png",
         "0",
         "0",
         "0_0"
        ],
        [
         "1461",
         "images/cell1935.png",
         "0",
         "0",
         "0_0"
        ],
        [
         "1902",
         "images/cell1838.png",
         "0",
         "0",
         "0_0"
        ],
        [
         "1463",
         "images/cell0827.png",
         "0",
         "0",
         "0_0"
        ],
        [
         "126",
         "images/cell0777.png",
         "0",
         "0",
         "0_0"
        ],
        [
         "1407",
         "images/cell1754.png",
         "0",
         "0",
         "0_0"
        ],
        [
         "1228",
         "images/cell1177.png",
         "0",
         "0",
         "0_0"
        ],
        [
         "1752",
         "images/cell1478.png",
         "0",
         "0",
         "0_0"
        ],
        [
         "68",
         "images/cell0745.png",
         "0",
         "0",
         "0_0"
        ],
        [
         "154",
         "images/cell0094.png",
         "0",
         "0",
         "0_0"
        ],
        [
         "1876",
         "images/cell1814.png",
         "0",
         "0",
         "0_0"
        ]
       ],
       "shape": {
        "columns": 4,
        "rows": 500
       }
      },
      "text/html": [
       "<div>\n",
       "<style scoped>\n",
       "    .dataframe tbody tr th:only-of-type {\n",
       "        vertical-align: middle;\n",
       "    }\n",
       "\n",
       "    .dataframe tbody tr th {\n",
       "        vertical-align: top;\n",
       "    }\n",
       "\n",
       "    .dataframe thead th {\n",
       "        text-align: right;\n",
       "    }\n",
       "</style>\n",
       "<table border=\"1\" class=\"dataframe\">\n",
       "  <thead>\n",
       "    <tr style=\"text-align: right;\">\n",
       "      <th></th>\n",
       "      <th>filename</th>\n",
       "      <th>crack</th>\n",
       "      <th>inactive</th>\n",
       "      <th>class_combo</th>\n",
       "    </tr>\n",
       "  </thead>\n",
       "  <tbody>\n",
       "    <tr>\n",
       "      <th>592</th>\n",
       "      <td>images/cell1445.png</td>\n",
       "      <td>0</td>\n",
       "      <td>0</td>\n",
       "      <td>0_0</td>\n",
       "    </tr>\n",
       "    <tr>\n",
       "      <th>1002</th>\n",
       "      <td>images/cell1186.png</td>\n",
       "      <td>0</td>\n",
       "      <td>0</td>\n",
       "      <td>0_0</td>\n",
       "    </tr>\n",
       "    <tr>\n",
       "      <th>1152</th>\n",
       "      <td>images/cell1620.png</td>\n",
       "      <td>0</td>\n",
       "      <td>0</td>\n",
       "      <td>0_0</td>\n",
       "    </tr>\n",
       "    <tr>\n",
       "      <th>1484</th>\n",
       "      <td>images/cell0300.png</td>\n",
       "      <td>0</td>\n",
       "      <td>0</td>\n",
       "      <td>0_0</td>\n",
       "    </tr>\n",
       "    <tr>\n",
       "      <th>1410</th>\n",
       "      <td>images/cell0205.png</td>\n",
       "      <td>0</td>\n",
       "      <td>0</td>\n",
       "      <td>0_0</td>\n",
       "    </tr>\n",
       "    <tr>\n",
       "      <th>...</th>\n",
       "      <td>...</td>\n",
       "      <td>...</td>\n",
       "      <td>...</td>\n",
       "      <td>...</td>\n",
       "    </tr>\n",
       "    <tr>\n",
       "      <th>1411</th>\n",
       "      <td>images/cell0085.png</td>\n",
       "      <td>0</td>\n",
       "      <td>0</td>\n",
       "      <td>0_0</td>\n",
       "    </tr>\n",
       "    <tr>\n",
       "      <th>899</th>\n",
       "      <td>images/cell1802.png</td>\n",
       "      <td>0</td>\n",
       "      <td>0</td>\n",
       "      <td>0_0</td>\n",
       "    </tr>\n",
       "    <tr>\n",
       "      <th>627</th>\n",
       "      <td>images/cell1704.png</td>\n",
       "      <td>0</td>\n",
       "      <td>0</td>\n",
       "      <td>0_0</td>\n",
       "    </tr>\n",
       "    <tr>\n",
       "      <th>1572</th>\n",
       "      <td>images/cell1317.png</td>\n",
       "      <td>0</td>\n",
       "      <td>0</td>\n",
       "      <td>0_0</td>\n",
       "    </tr>\n",
       "    <tr>\n",
       "      <th>1400</th>\n",
       "      <td>images/cell1892.png</td>\n",
       "      <td>0</td>\n",
       "      <td>0</td>\n",
       "      <td>0_0</td>\n",
       "    </tr>\n",
       "  </tbody>\n",
       "</table>\n",
       "<p>500 rows × 4 columns</p>\n",
       "</div>"
      ],
      "text/plain": [
       "                 filename  crack  inactive class_combo\n",
       "592   images/cell1445.png      0         0         0_0\n",
       "1002  images/cell1186.png      0         0         0_0\n",
       "1152  images/cell1620.png      0         0         0_0\n",
       "1484  images/cell0300.png      0         0         0_0\n",
       "1410  images/cell0205.png      0         0         0_0\n",
       "...                   ...    ...       ...         ...\n",
       "1411  images/cell0085.png      0         0         0_0\n",
       "899   images/cell1802.png      0         0         0_0\n",
       "627   images/cell1704.png      0         0         0_0\n",
       "1572  images/cell1317.png      0         0         0_0\n",
       "1400  images/cell1892.png      0         0         0_0\n",
       "\n",
       "[500 rows x 4 columns]"
      ]
     },
     "execution_count": 85,
     "metadata": {},
     "output_type": "execute_result"
    }
   ],
   "source": [
    "# downsample\n",
    "balanced_00 = train[train[\"class_combo\"] == \"0_0\"].sample(n = 500, replace=True, random_state=42)\n",
    "balanced_00"
   ]
  },
  {
   "cell_type": "code",
   "execution_count": 74,
   "id": "31a77c55",
   "metadata": {},
   "outputs": [],
   "source": [
    "from torch.utils.data import Dataset\n",
    "import torch\n",
    "from pathlib import Path\n",
    "from skimage.io import imread\n",
    "from skimage.color import gray2rgb\n",
    "import numpy as np\n",
    "import torchvision as tv\n",
    "import torchvision.transforms as T\n",
    "from torchvision.utils import save_image\n",
    "from pathlib import Path"
   ]
  },
  {
   "cell_type": "code",
   "execution_count": null,
   "id": "a2deeb9c",
   "metadata": {},
   "outputs": [],
   "source": [
    "class DataAugmenter:\n",
    "    def __init__(self, output_dir=\"augmented\", num_augs=1):\n",
    "        self.output_dir = Path(output_dir)\n",
    "        self.output_dir.mkdir(exist_ok=True, parents=True)\n",
    "        self.num_augs = num_augs\n",
    "\n",
    "        self.aug_tfs = [\n",
    "            T.ToPILImage(),\n",
    "            T.RandomHorizontalFlip(p=0.5),\n",
    "            T.RandomVerticalFlip(p=0.5),\n",
    "            T.ColorJitter(brightness=0.4, contrast=0.2),\n",
    "        ]\n",
    "        self.transform = T.Compose(self.aug_tfs)\n",
    "\n",
    "    def augment(self, df: pd.DataFrame) -> pd.DataFrame:\n",
    "        new_rows = []\n",
    "\n",
    "        for idx, row in df.iterrows():\n",
    "            filename = Path(row[\"filename\"])\n",
    "            img = imread(filename)\n",
    "\n",
    "            # Convert to RGB if needed\n",
    "            if img.ndim == 2 or img.shape[-1] == 1:\n",
    "                img = gray2rgb(img)\n",
    "            if img.dtype != np.uint8:\n",
    "                img = (img * 255).astype(np.uint8) if img.max() <= 1 else img.astype(np.uint8)\n",
    "\n",
    "            for i in range(self.num_augs):\n",
    "                img_aug = self.transform(img)\n",
    "\n",
    "                # Create new filename\n",
    "                stem = filename.stem\n",
    "                suffix = filename.suffix if filename.suffix else \".png\"\n",
    "                new_name = f\"{stem}_aug{i+1}{suffix}\"\n",
    "                save_path = self.output_dir / new_name\n",
    "\n",
    "                # Save image\n",
    "                img_aug.save(save_path)\n",
    "\n",
    "                # Append new row\n",
    "                new_rows.append({\n",
    "                    \"filename\": str(save_path),\n",
    "                    \"crack\": row[\"crack\"],\n",
    "                    \"inactive\": row[\"inactive\"],\n",
    "                    \"class_combo\": row[\"class_combo\"]\n",
    "                })\n",
    "\n",
    "        return pd.DataFrame(new_rows)\n"
   ]
  },
  {
   "cell_type": "code",
   "execution_count": null,
   "id": "d805c8da",
   "metadata": {},
   "outputs": [
    {
     "data": {
      "application/vnd.microsoft.datawrangler.viewer.v0+json": {
       "columns": [
        {
         "name": "index",
         "rawType": "int64",
         "type": "integer"
        },
        {
         "name": "filename",
         "rawType": "object",
         "type": "string"
        },
        {
         "name": "crack",
         "rawType": "int64",
         "type": "integer"
        },
        {
         "name": "inactive",
         "rawType": "int64",
         "type": "integer"
        },
        {
         "name": "class_combo",
         "rawType": "object",
         "type": "string"
        }
       ],
       "ref": "f9ae0283-110e-4c58-b68f-d10529c91768",
       "rows": [
        [
         "596",
         "images/cell1976.png",
         "0",
         "1",
         "0_1"
        ],
        [
         "1943",
         "images/cell0708.png",
         "0",
         "1",
         "0_1"
        ],
        [
         "1992",
         "images/cell0702.png",
         "0",
         "1",
         "0_1"
        ],
        [
         "545",
         "images/cell0203.png",
         "0",
         "1",
         "0_1"
        ],
        [
         "1632",
         "images/cell1616.png",
         "0",
         "1",
         "0_1"
        ],
        [
         "662",
         "images/cell1623.png",
         "0",
         "1",
         "0_1"
        ],
        [
         "1807",
         "images/cell0530.png",
         "0",
         "1",
         "0_1"
        ],
        [
         "758",
         "images/cell0786.png",
         "0",
         "1",
         "0_1"
        ],
        [
         "1291",
         "images/cell2599.png",
         "0",
         "1",
         "0_1"
        ],
        [
         "1899",
         "images/cell0437.png",
         "0",
         "1",
         "0_1"
        ],
        [
         "0",
         "augmented\\cell1976_aug1.png",
         "0",
         "1",
         "0_1"
        ],
        [
         "1",
         "augmented\\cell1976_aug2.png",
         "0",
         "1",
         "0_1"
        ],
        [
         "2",
         "augmented\\cell1976_aug3.png",
         "0",
         "1",
         "0_1"
        ],
        [
         "3",
         "augmented\\cell1976_aug4.png",
         "0",
         "1",
         "0_1"
        ],
        [
         "4",
         "augmented\\cell1976_aug5.png",
         "0",
         "1",
         "0_1"
        ],
        [
         "5",
         "augmented\\cell1976_aug6.png",
         "0",
         "1",
         "0_1"
        ],
        [
         "6",
         "augmented\\cell1976_aug7.png",
         "0",
         "1",
         "0_1"
        ],
        [
         "7",
         "augmented\\cell1976_aug8.png",
         "0",
         "1",
         "0_1"
        ],
        [
         "8",
         "augmented\\cell1976_aug9.png",
         "0",
         "1",
         "0_1"
        ],
        [
         "9",
         "augmented\\cell1976_aug10.png",
         "0",
         "1",
         "0_1"
        ],
        [
         "10",
         "augmented\\cell1976_aug11.png",
         "0",
         "1",
         "0_1"
        ],
        [
         "11",
         "augmented\\cell1976_aug12.png",
         "0",
         "1",
         "0_1"
        ],
        [
         "12",
         "augmented\\cell1976_aug13.png",
         "0",
         "1",
         "0_1"
        ],
        [
         "13",
         "augmented\\cell1976_aug14.png",
         "0",
         "1",
         "0_1"
        ],
        [
         "14",
         "augmented\\cell1976_aug15.png",
         "0",
         "1",
         "0_1"
        ],
        [
         "15",
         "augmented\\cell1976_aug16.png",
         "0",
         "1",
         "0_1"
        ],
        [
         "16",
         "augmented\\cell1976_aug17.png",
         "0",
         "1",
         "0_1"
        ],
        [
         "17",
         "augmented\\cell1976_aug18.png",
         "0",
         "1",
         "0_1"
        ],
        [
         "18",
         "augmented\\cell1976_aug19.png",
         "0",
         "1",
         "0_1"
        ],
        [
         "19",
         "augmented\\cell1976_aug20.png",
         "0",
         "1",
         "0_1"
        ],
        [
         "20",
         "augmented\\cell1976_aug21.png",
         "0",
         "1",
         "0_1"
        ],
        [
         "21",
         "augmented\\cell1976_aug22.png",
         "0",
         "1",
         "0_1"
        ],
        [
         "22",
         "augmented\\cell1976_aug23.png",
         "0",
         "1",
         "0_1"
        ],
        [
         "23",
         "augmented\\cell1976_aug24.png",
         "0",
         "1",
         "0_1"
        ],
        [
         "24",
         "augmented\\cell1976_aug25.png",
         "0",
         "1",
         "0_1"
        ],
        [
         "25",
         "augmented\\cell1976_aug26.png",
         "0",
         "1",
         "0_1"
        ],
        [
         "26",
         "augmented\\cell1976_aug27.png",
         "0",
         "1",
         "0_1"
        ],
        [
         "27",
         "augmented\\cell1976_aug28.png",
         "0",
         "1",
         "0_1"
        ],
        [
         "28",
         "augmented\\cell1976_aug29.png",
         "0",
         "1",
         "0_1"
        ],
        [
         "29",
         "augmented\\cell1976_aug30.png",
         "0",
         "1",
         "0_1"
        ],
        [
         "30",
         "augmented\\cell1976_aug31.png",
         "0",
         "1",
         "0_1"
        ],
        [
         "31",
         "augmented\\cell1976_aug32.png",
         "0",
         "1",
         "0_1"
        ],
        [
         "32",
         "augmented\\cell1976_aug33.png",
         "0",
         "1",
         "0_1"
        ],
        [
         "33",
         "augmented\\cell1976_aug34.png",
         "0",
         "1",
         "0_1"
        ],
        [
         "34",
         "augmented\\cell1976_aug35.png",
         "0",
         "1",
         "0_1"
        ],
        [
         "35",
         "augmented\\cell1976_aug36.png",
         "0",
         "1",
         "0_1"
        ],
        [
         "36",
         "augmented\\cell1976_aug37.png",
         "0",
         "1",
         "0_1"
        ],
        [
         "37",
         "augmented\\cell1976_aug38.png",
         "0",
         "1",
         "0_1"
        ],
        [
         "38",
         "augmented\\cell1976_aug39.png",
         "0",
         "1",
         "0_1"
        ],
        [
         "39",
         "augmented\\cell1976_aug40.png",
         "0",
         "1",
         "0_1"
        ]
       ],
       "shape": {
        "columns": 4,
        "rows": 500
       }
      },
      "text/html": [
       "<div>\n",
       "<style scoped>\n",
       "    .dataframe tbody tr th:only-of-type {\n",
       "        vertical-align: middle;\n",
       "    }\n",
       "\n",
       "    .dataframe tbody tr th {\n",
       "        vertical-align: top;\n",
       "    }\n",
       "\n",
       "    .dataframe thead th {\n",
       "        text-align: right;\n",
       "    }\n",
       "</style>\n",
       "<table border=\"1\" class=\"dataframe\">\n",
       "  <thead>\n",
       "    <tr style=\"text-align: right;\">\n",
       "      <th></th>\n",
       "      <th>filename</th>\n",
       "      <th>crack</th>\n",
       "      <th>inactive</th>\n",
       "      <th>class_combo</th>\n",
       "    </tr>\n",
       "  </thead>\n",
       "  <tbody>\n",
       "    <tr>\n",
       "      <th>596</th>\n",
       "      <td>images/cell1976.png</td>\n",
       "      <td>0</td>\n",
       "      <td>1</td>\n",
       "      <td>0_1</td>\n",
       "    </tr>\n",
       "    <tr>\n",
       "      <th>1943</th>\n",
       "      <td>images/cell0708.png</td>\n",
       "      <td>0</td>\n",
       "      <td>1</td>\n",
       "      <td>0_1</td>\n",
       "    </tr>\n",
       "    <tr>\n",
       "      <th>1992</th>\n",
       "      <td>images/cell0702.png</td>\n",
       "      <td>0</td>\n",
       "      <td>1</td>\n",
       "      <td>0_1</td>\n",
       "    </tr>\n",
       "    <tr>\n",
       "      <th>545</th>\n",
       "      <td>images/cell0203.png</td>\n",
       "      <td>0</td>\n",
       "      <td>1</td>\n",
       "      <td>0_1</td>\n",
       "    </tr>\n",
       "    <tr>\n",
       "      <th>1632</th>\n",
       "      <td>images/cell1616.png</td>\n",
       "      <td>0</td>\n",
       "      <td>1</td>\n",
       "      <td>0_1</td>\n",
       "    </tr>\n",
       "    <tr>\n",
       "      <th>...</th>\n",
       "      <td>...</td>\n",
       "      <td>...</td>\n",
       "      <td>...</td>\n",
       "      <td>...</td>\n",
       "    </tr>\n",
       "    <tr>\n",
       "      <th>485</th>\n",
       "      <td>augmented\\cell0437_aug45.png</td>\n",
       "      <td>0</td>\n",
       "      <td>1</td>\n",
       "      <td>0_1</td>\n",
       "    </tr>\n",
       "    <tr>\n",
       "      <th>486</th>\n",
       "      <td>augmented\\cell0437_aug46.png</td>\n",
       "      <td>0</td>\n",
       "      <td>1</td>\n",
       "      <td>0_1</td>\n",
       "    </tr>\n",
       "    <tr>\n",
       "      <th>487</th>\n",
       "      <td>augmented\\cell0437_aug47.png</td>\n",
       "      <td>0</td>\n",
       "      <td>1</td>\n",
       "      <td>0_1</td>\n",
       "    </tr>\n",
       "    <tr>\n",
       "      <th>488</th>\n",
       "      <td>augmented\\cell0437_aug48.png</td>\n",
       "      <td>0</td>\n",
       "      <td>1</td>\n",
       "      <td>0_1</td>\n",
       "    </tr>\n",
       "    <tr>\n",
       "      <th>489</th>\n",
       "      <td>augmented\\cell0437_aug49.png</td>\n",
       "      <td>0</td>\n",
       "      <td>1</td>\n",
       "      <td>0_1</td>\n",
       "    </tr>\n",
       "  </tbody>\n",
       "</table>\n",
       "<p>500 rows × 4 columns</p>\n",
       "</div>"
      ],
      "text/plain": [
       "                          filename  crack  inactive class_combo\n",
       "596            images/cell1976.png      0         1         0_1\n",
       "1943           images/cell0708.png      0         1         0_1\n",
       "1992           images/cell0702.png      0         1         0_1\n",
       "545            images/cell0203.png      0         1         0_1\n",
       "1632           images/cell1616.png      0         1         0_1\n",
       "...                            ...    ...       ...         ...\n",
       "485   augmented\\cell0437_aug45.png      0         1         0_1\n",
       "486   augmented\\cell0437_aug46.png      0         1         0_1\n",
       "487   augmented\\cell0437_aug47.png      0         1         0_1\n",
       "488   augmented\\cell0437_aug48.png      0         1         0_1\n",
       "489   augmented\\cell0437_aug49.png      0         1         0_1\n",
       "\n",
       "[500 rows x 4 columns]"
      ]
     },
     "execution_count": 90,
     "metadata": {},
     "output_type": "execute_result"
    }
   ],
   "source": [
    "balanced_01 = train[train[\"class_combo\"] == \"0_1\"]\n",
    "\n",
    "augmenter = DataAugmenter(output_dir=\"augmented\", num_augs=49)\n",
    "new_rows_01 = augmenter.augment(balanced_01)\n",
    "balanced_01 = pd.concat([balanced_01, new_rows_01])\n",
    "balanced_01"
   ]
  },
  {
   "cell_type": "code",
   "execution_count": 91,
   "id": "040a9045",
   "metadata": {},
   "outputs": [
    {
     "data": {
      "application/vnd.microsoft.datawrangler.viewer.v0+json": {
       "columns": [
        {
         "name": "index",
         "rawType": "int64",
         "type": "integer"
        },
        {
         "name": "filename",
         "rawType": "object",
         "type": "string"
        },
        {
         "name": "crack",
         "rawType": "int64",
         "type": "integer"
        },
        {
         "name": "inactive",
         "rawType": "int64",
         "type": "integer"
        },
        {
         "name": "class_combo",
         "rawType": "object",
         "type": "string"
        }
       ],
       "ref": "bcc074d8-2df2-41dc-88e8-d8e01fd117aa",
       "rows": [
        [
         "1804",
         "images/cell0693.png",
         "1",
         "0",
         "1_0"
        ],
        [
         "166",
         "augmented\\cell1409_aug1.png",
         "1",
         "0",
         "1_0"
        ],
        [
         "1",
         "augmented\\cell1059_aug2.png",
         "1",
         "0",
         "1_0"
        ],
        [
         "666",
         "images/cell0486.png",
         "1",
         "0",
         "1_0"
        ],
        [
         "215",
         "images/cell2517.png",
         "1",
         "0",
         "1_0"
        ],
        [
         "431",
         "augmented\\cell0049_aug2.png",
         "1",
         "0",
         "1_0"
        ],
        [
         "1980",
         "images/cell0285.png",
         "1",
         "0",
         "1_0"
        ],
        [
         "345",
         "augmented\\cell0028_aug2.png",
         "1",
         "0",
         "1_0"
        ],
        [
         "1046",
         "images/cell0861.png",
         "1",
         "0",
         "1_0"
        ],
        [
         "197",
         "augmented\\cell2427_aug2.png",
         "1",
         "0",
         "1_0"
        ],
        [
         "1661",
         "images/cell0887.png",
         "1",
         "0",
         "1_0"
        ],
        [
         "61",
         "augmented\\cell0264_aug2.png",
         "1",
         "0",
         "1_0"
        ],
        [
         "189",
         "augmented\\cell0842_aug2.png",
         "1",
         "0",
         "1_0"
        ],
        [
         "976",
         "images/cell2547.png",
         "1",
         "0",
         "1_0"
        ],
        [
         "103",
         "augmented\\cell0564_aug2.png",
         "1",
         "0",
         "1_0"
        ],
        [
         "1503",
         "images/cell0672.png",
         "1",
         "0",
         "1_0"
        ],
        [
         "394",
         "augmented\\cell0595_aug1.png",
         "1",
         "0",
         "1_0"
        ],
        [
         "501",
         "images/cell0286.png",
         "1",
         "0",
         "1_0"
        ],
        [
         "392",
         "augmented\\cell0531_aug1.png",
         "1",
         "0",
         "1_0"
        ],
        [
         "39",
         "augmented\\cell1405_aug2.png",
         "1",
         "0",
         "1_0"
        ],
        [
         "500",
         "augmented\\cell1890_aug1.png",
         "1",
         "0",
         "1_0"
        ],
        [
         "74",
         "augmented\\cell0862_aug1.png",
         "1",
         "0",
         "1_0"
        ],
        [
         "222",
         "augmented\\cell0411_aug1.png",
         "1",
         "0",
         "1_0"
        ],
        [
         "144",
         "augmented\\cell0373_aug1.png",
         "1",
         "0",
         "1_0"
        ],
        [
         "536",
         "augmented\\cell0487_aug1.png",
         "1",
         "0",
         "1_0"
        ],
        [
         "116",
         "augmented\\cell1982_aug1.png",
         "1",
         "0",
         "1_0"
        ],
        [
         "1984",
         "images/cell0510.png",
         "1",
         "0",
         "1_0"
        ],
        [
         "7",
         "augmented\\cell0479_aug2.png",
         "1",
         "0",
         "1_0"
        ],
        [
         "412",
         "images/cell1075.png",
         "1",
         "0",
         "1_0"
        ],
        [
         "190",
         "augmented\\cell0876_aug1.png",
         "1",
         "0",
         "1_0"
        ],
        [
         "44",
         "augmented\\cell2432_aug1.png",
         "1",
         "0",
         "1_0"
        ],
        [
         "1861",
         "images/cell0860.png",
         "1",
         "0",
         "1_0"
        ],
        [
         "161",
         "images/cell0440.png",
         "1",
         "0",
         "1_0"
        ],
        [
         "478",
         "augmented\\cell0027_aug1.png",
         "1",
         "0",
         "1_0"
        ],
        [
         "291",
         "augmented\\cell1097_aug2.png",
         "1",
         "0",
         "1_0"
        ],
        [
         "205",
         "augmented\\cell0693_aug2.png",
         "1",
         "0",
         "1_0"
        ],
        [
         "1073",
         "images/cell1982.png",
         "1",
         "0",
         "1_0"
        ],
        [
         "241",
         "augmented\\cell0034_aug2.png",
         "1",
         "0",
         "1_0"
        ],
        [
         "412",
         "augmented\\cell1404_aug1.png",
         "1",
         "0",
         "1_0"
        ],
        [
         "206",
         "augmented\\cell0428_aug1.png",
         "1",
         "0",
         "1_0"
        ],
        [
         "430",
         "augmented\\cell0049_aug1.png",
         "1",
         "0",
         "1_0"
        ],
        [
         "513",
         "augmented\\cell0854_aug2.png",
         "1",
         "0",
         "1_0"
        ],
        [
         "1139",
         "images/cell2435.png",
         "1",
         "0",
         "1_0"
        ],
        [
         "417",
         "augmented\\cell0535_aug2.png",
         "1",
         "0",
         "1_0"
        ],
        [
         "293",
         "augmented\\cell2204_aug2.png",
         "1",
         "0",
         "1_0"
        ],
        [
         "297",
         "augmented\\cell2070_aug2.png",
         "1",
         "0",
         "1_0"
        ],
        [
         "1017",
         "images/cell1065.png",
         "1",
         "0",
         "1_0"
        ],
        [
         "235",
         "augmented\\cell0001_aug2.png",
         "1",
         "0",
         "1_0"
        ],
        [
         "501",
         "images/cell0286.png",
         "1",
         "0",
         "1_0"
        ],
        [
         "215",
         "augmented\\cell0453_aug2.png",
         "1",
         "0",
         "1_0"
        ]
       ],
       "shape": {
        "columns": 4,
        "rows": 500
       }
      },
      "text/html": [
       "<div>\n",
       "<style scoped>\n",
       "    .dataframe tbody tr th:only-of-type {\n",
       "        vertical-align: middle;\n",
       "    }\n",
       "\n",
       "    .dataframe tbody tr th {\n",
       "        vertical-align: top;\n",
       "    }\n",
       "\n",
       "    .dataframe thead th {\n",
       "        text-align: right;\n",
       "    }\n",
       "</style>\n",
       "<table border=\"1\" class=\"dataframe\">\n",
       "  <thead>\n",
       "    <tr style=\"text-align: right;\">\n",
       "      <th></th>\n",
       "      <th>filename</th>\n",
       "      <th>crack</th>\n",
       "      <th>inactive</th>\n",
       "      <th>class_combo</th>\n",
       "    </tr>\n",
       "  </thead>\n",
       "  <tbody>\n",
       "    <tr>\n",
       "      <th>1804</th>\n",
       "      <td>images/cell0693.png</td>\n",
       "      <td>1</td>\n",
       "      <td>0</td>\n",
       "      <td>1_0</td>\n",
       "    </tr>\n",
       "    <tr>\n",
       "      <th>166</th>\n",
       "      <td>augmented\\cell1409_aug1.png</td>\n",
       "      <td>1</td>\n",
       "      <td>0</td>\n",
       "      <td>1_0</td>\n",
       "    </tr>\n",
       "    <tr>\n",
       "      <th>1</th>\n",
       "      <td>augmented\\cell1059_aug2.png</td>\n",
       "      <td>1</td>\n",
       "      <td>0</td>\n",
       "      <td>1_0</td>\n",
       "    </tr>\n",
       "    <tr>\n",
       "      <th>666</th>\n",
       "      <td>images/cell0486.png</td>\n",
       "      <td>1</td>\n",
       "      <td>0</td>\n",
       "      <td>1_0</td>\n",
       "    </tr>\n",
       "    <tr>\n",
       "      <th>215</th>\n",
       "      <td>images/cell2517.png</td>\n",
       "      <td>1</td>\n",
       "      <td>0</td>\n",
       "      <td>1_0</td>\n",
       "    </tr>\n",
       "    <tr>\n",
       "      <th>...</th>\n",
       "      <td>...</td>\n",
       "      <td>...</td>\n",
       "      <td>...</td>\n",
       "      <td>...</td>\n",
       "    </tr>\n",
       "    <tr>\n",
       "      <th>532</th>\n",
       "      <td>augmented\\cell0305_aug1.png</td>\n",
       "      <td>1</td>\n",
       "      <td>0</td>\n",
       "      <td>1_0</td>\n",
       "    </tr>\n",
       "    <tr>\n",
       "      <th>224</th>\n",
       "      <td>images/cell0876.png</td>\n",
       "      <td>1</td>\n",
       "      <td>0</td>\n",
       "      <td>1_0</td>\n",
       "    </tr>\n",
       "    <tr>\n",
       "      <th>368</th>\n",
       "      <td>augmented\\cell0675_aug1.png</td>\n",
       "      <td>1</td>\n",
       "      <td>0</td>\n",
       "      <td>1_0</td>\n",
       "    </tr>\n",
       "    <tr>\n",
       "      <th>448</th>\n",
       "      <td>images/cell0001.png</td>\n",
       "      <td>1</td>\n",
       "      <td>0</td>\n",
       "      <td>1_0</td>\n",
       "    </tr>\n",
       "    <tr>\n",
       "      <th>290</th>\n",
       "      <td>augmented\\cell1097_aug1.png</td>\n",
       "      <td>1</td>\n",
       "      <td>0</td>\n",
       "      <td>1_0</td>\n",
       "    </tr>\n",
       "  </tbody>\n",
       "</table>\n",
       "<p>500 rows × 4 columns</p>\n",
       "</div>"
      ],
      "text/plain": [
       "                         filename  crack  inactive class_combo\n",
       "1804          images/cell0693.png      1         0         1_0\n",
       "166   augmented\\cell1409_aug1.png      1         0         1_0\n",
       "1     augmented\\cell1059_aug2.png      1         0         1_0\n",
       "666           images/cell0486.png      1         0         1_0\n",
       "215           images/cell2517.png      1         0         1_0\n",
       "...                           ...    ...       ...         ...\n",
       "532   augmented\\cell0305_aug1.png      1         0         1_0\n",
       "224           images/cell0876.png      1         0         1_0\n",
       "368   augmented\\cell0675_aug1.png      1         0         1_0\n",
       "448           images/cell0001.png      1         0         1_0\n",
       "290   augmented\\cell1097_aug1.png      1         0         1_0\n",
       "\n",
       "[500 rows x 4 columns]"
      ]
     },
     "execution_count": 91,
     "metadata": {},
     "output_type": "execute_result"
    }
   ],
   "source": [
    "balanced_10  = train[train[\"class_combo\"] == \"1_0\"]\n",
    "\n",
    "augmenter = DataAugmenter(output_dir=\"augmented\", num_augs=2)\n",
    "new_rows_10 = augmenter.augment(balanced_10)\n",
    "balanced_10 = pd.concat([balanced_10, new_rows_10])\n",
    "balanced_10 = balanced_10.sample(n = 500, replace=True, random_state=42)\n",
    "balanced_10"
   ]
  },
  {
   "cell_type": "code",
   "execution_count": 92,
   "id": "28ae6ff9",
   "metadata": {},
   "outputs": [
    {
     "data": {
      "application/vnd.microsoft.datawrangler.viewer.v0+json": {
       "columns": [
        {
         "name": "index",
         "rawType": "int64",
         "type": "integer"
        },
        {
         "name": "filename",
         "rawType": "object",
         "type": "string"
        },
        {
         "name": "crack",
         "rawType": "int64",
         "type": "integer"
        },
        {
         "name": "inactive",
         "rawType": "int64",
         "type": "integer"
        },
        {
         "name": "class_combo",
         "rawType": "object",
         "type": "string"
        }
       ],
       "ref": "e4f9e3ee-e400-4478-b99d-2f94424ed22a",
       "rows": [
        [
         "17",
         "augmented\\cell0499_aug3.png",
         "1",
         "1",
         "1_1"
        ],
        [
         "350",
         "augmented\\cell0451_aug1.png",
         "1",
         "1",
         "1_1"
        ],
        [
         "263",
         "augmented\\cell0889_aug4.png",
         "1",
         "1",
         "1_1"
        ],
        [
         "185",
         "augmented\\cell0523_aug1.png",
         "1",
         "1",
         "1_1"
        ],
        [
         "21",
         "augmented\\cell1674_aug2.png",
         "1",
         "1",
         "1_1"
        ],
        [
         "608",
         "images/cell1653.png",
         "1",
         "1",
         "1_1"
        ],
        [
         "103",
         "augmented\\cell0492_aug4.png",
         "1",
         "1",
         "1_1"
        ],
        [
         "1501",
         "images/cell0492.png",
         "1",
         "1",
         "1_1"
        ],
        [
         "17",
         "augmented\\cell0499_aug3.png",
         "1",
         "1",
         "1_1"
        ],
        [
         "36",
         "augmented\\cell0400_aug2.png",
         "1",
         "1",
         "1_1"
        ],
        [
         "381",
         "augmented\\cell1668_aug2.png",
         "1",
         "1",
         "1_1"
        ],
        [
         "129",
         "augmented\\cell1615_aug5.png",
         "1",
         "1",
         "1_1"
        ],
        [
         "245",
         "augmented\\cell0039_aug1.png",
         "1",
         "1",
         "1_1"
        ],
        [
         "373",
         "augmented\\cell1621_aug4.png",
         "1",
         "1",
         "1_1"
        ],
        [
         "2",
         "augmented\\cell0044_aug3.png",
         "1",
         "1",
         "1_1"
        ],
        [
         "287",
         "augmented\\cell1637_aug3.png",
         "1",
         "1",
         "1_1"
        ],
        [
         "14",
         "augmented\\cell0455_aug5.png",
         "1",
         "1",
         "1_1"
        ],
        [
         "274",
         "augmented\\cell1633_aug5.png",
         "1",
         "1",
         "1_1"
        ],
        [
         "66",
         "augmented\\cell0454_aug2.png",
         "1",
         "1",
         "1_1"
        ],
        [
         "45",
         "augmented\\cell1645_aug1.png",
         "1",
         "1",
         "1_1"
        ],
        [
         "64",
         "augmented\\cell0450_aug5.png",
         "1",
         "1",
         "1_1"
        ],
        [
         "223",
         "augmented\\cell1624_aug4.png",
         "1",
         "1",
         "1_1"
        ],
        [
         "172",
         "augmented\\cell0379_aug3.png",
         "1",
         "1",
         "1_1"
        ],
        [
         "258",
         "augmented\\cell1618_aug4.png",
         "1",
         "1",
         "1_1"
        ],
        [
         "406",
         "augmented\\cell1657_aug2.png",
         "1",
         "1",
         "1_1"
        ],
        [
         "328",
         "augmented\\cell0030_aug4.png",
         "1",
         "1",
         "1_1"
        ],
        [
         "208",
         "augmented\\cell1665_aug4.png",
         "1",
         "1",
         "1_1"
        ],
        [
         "300",
         "augmented\\cell0408_aug1.png",
         "1",
         "1",
         "1_1"
        ],
        [
         "106",
         "augmented\\cell1643_aug2.png",
         "1",
         "1",
         "1_1"
        ],
        [
         "358",
         "augmented\\cell1653_aug4.png",
         "1",
         "1",
         "1_1"
        ],
        [
         "191",
         "augmented\\cell1639_aug2.png",
         "1",
         "1",
         "1_1"
        ],
        [
         "75",
         "augmented\\cell1625_aug1.png",
         "1",
         "1",
         "1_1"
        ],
        [
         "374",
         "augmented\\cell1621_aug5.png",
         "1",
         "1",
         "1_1"
        ],
        [
         "228",
         "augmented\\cell0038_aug4.png",
         "1",
         "1",
         "1_1"
        ],
        [
         "1509",
         "images/cell1643.png",
         "1",
         "1",
         "1_1"
        ],
        [
         "167",
         "augmented\\cell0469_aug3.png",
         "1",
         "1",
         "1_1"
        ],
        [
         "150",
         "augmented\\cell0046_aug1.png",
         "1",
         "1",
         "1_1"
        ],
        [
         "259",
         "augmented\\cell1618_aug5.png",
         "1",
         "1",
         "1_1"
        ],
        [
         "388",
         "images/cell0040.png",
         "1",
         "1",
         "1_1"
        ],
        [
         "389",
         "augmented\\cell1631_aug5.png",
         "1",
         "1",
         "1_1"
        ],
        [
         "911",
         "images/cell2057.png",
         "1",
         "1",
         "1_1"
        ],
        [
         "84",
         "augmented\\cell1626_aug5.png",
         "1",
         "1",
         "1_1"
        ],
        [
         "390",
         "augmented\\cell0835_aug1.png",
         "1",
         "1",
         "1_1"
        ],
        [
         "102",
         "augmented\\cell0492_aug3.png",
         "1",
         "1",
         "1_1"
        ],
        [
         "378",
         "augmented\\cell0442_aug4.png",
         "1",
         "1",
         "1_1"
        ],
        [
         "185",
         "augmented\\cell0523_aug1.png",
         "1",
         "1",
         "1_1"
        ],
        [
         "104",
         "augmented\\cell0492_aug5.png",
         "1",
         "1",
         "1_1"
        ],
        [
         "360",
         "augmented\\cell0383_aug1.png",
         "1",
         "1",
         "1_1"
        ],
        [
         "89",
         "augmented\\cell0496_aug5.png",
         "1",
         "1",
         "1_1"
        ],
        [
         "360",
         "augmented\\cell0383_aug1.png",
         "1",
         "1",
         "1_1"
        ]
       ],
       "shape": {
        "columns": 4,
        "rows": 500
       }
      },
      "text/html": [
       "<div>\n",
       "<style scoped>\n",
       "    .dataframe tbody tr th:only-of-type {\n",
       "        vertical-align: middle;\n",
       "    }\n",
       "\n",
       "    .dataframe tbody tr th {\n",
       "        vertical-align: top;\n",
       "    }\n",
       "\n",
       "    .dataframe thead th {\n",
       "        text-align: right;\n",
       "    }\n",
       "</style>\n",
       "<table border=\"1\" class=\"dataframe\">\n",
       "  <thead>\n",
       "    <tr style=\"text-align: right;\">\n",
       "      <th></th>\n",
       "      <th>filename</th>\n",
       "      <th>crack</th>\n",
       "      <th>inactive</th>\n",
       "      <th>class_combo</th>\n",
       "    </tr>\n",
       "  </thead>\n",
       "  <tbody>\n",
       "    <tr>\n",
       "      <th>17</th>\n",
       "      <td>augmented\\cell0499_aug3.png</td>\n",
       "      <td>1</td>\n",
       "      <td>1</td>\n",
       "      <td>1_1</td>\n",
       "    </tr>\n",
       "    <tr>\n",
       "      <th>350</th>\n",
       "      <td>augmented\\cell0451_aug1.png</td>\n",
       "      <td>1</td>\n",
       "      <td>1</td>\n",
       "      <td>1_1</td>\n",
       "    </tr>\n",
       "    <tr>\n",
       "      <th>263</th>\n",
       "      <td>augmented\\cell0889_aug4.png</td>\n",
       "      <td>1</td>\n",
       "      <td>1</td>\n",
       "      <td>1_1</td>\n",
       "    </tr>\n",
       "    <tr>\n",
       "      <th>185</th>\n",
       "      <td>augmented\\cell0523_aug1.png</td>\n",
       "      <td>1</td>\n",
       "      <td>1</td>\n",
       "      <td>1_1</td>\n",
       "    </tr>\n",
       "    <tr>\n",
       "      <th>21</th>\n",
       "      <td>augmented\\cell1674_aug2.png</td>\n",
       "      <td>1</td>\n",
       "      <td>1</td>\n",
       "      <td>1_1</td>\n",
       "    </tr>\n",
       "    <tr>\n",
       "      <th>...</th>\n",
       "      <td>...</td>\n",
       "      <td>...</td>\n",
       "      <td>...</td>\n",
       "      <td>...</td>\n",
       "    </tr>\n",
       "    <tr>\n",
       "      <th>105</th>\n",
       "      <td>augmented\\cell1643_aug1.png</td>\n",
       "      <td>1</td>\n",
       "      <td>1</td>\n",
       "      <td>1_1</td>\n",
       "    </tr>\n",
       "    <tr>\n",
       "      <th>167</th>\n",
       "      <td>augmented\\cell0469_aug3.png</td>\n",
       "      <td>1</td>\n",
       "      <td>1</td>\n",
       "      <td>1_1</td>\n",
       "    </tr>\n",
       "    <tr>\n",
       "      <th>383</th>\n",
       "      <td>augmented\\cell1668_aug4.png</td>\n",
       "      <td>1</td>\n",
       "      <td>1</td>\n",
       "      <td>1_1</td>\n",
       "    </tr>\n",
       "    <tr>\n",
       "      <th>330</th>\n",
       "      <td>augmented\\cell0505_aug1.png</td>\n",
       "      <td>1</td>\n",
       "      <td>1</td>\n",
       "      <td>1_1</td>\n",
       "    </tr>\n",
       "    <tr>\n",
       "      <th>385</th>\n",
       "      <td>augmented\\cell1631_aug1.png</td>\n",
       "      <td>1</td>\n",
       "      <td>1</td>\n",
       "      <td>1_1</td>\n",
       "    </tr>\n",
       "  </tbody>\n",
       "</table>\n",
       "<p>500 rows × 4 columns</p>\n",
       "</div>"
      ],
      "text/plain": [
       "                        filename  crack  inactive class_combo\n",
       "17   augmented\\cell0499_aug3.png      1         1         1_1\n",
       "350  augmented\\cell0451_aug1.png      1         1         1_1\n",
       "263  augmented\\cell0889_aug4.png      1         1         1_1\n",
       "185  augmented\\cell0523_aug1.png      1         1         1_1\n",
       "21   augmented\\cell1674_aug2.png      1         1         1_1\n",
       "..                           ...    ...       ...         ...\n",
       "105  augmented\\cell1643_aug1.png      1         1         1_1\n",
       "167  augmented\\cell0469_aug3.png      1         1         1_1\n",
       "383  augmented\\cell1668_aug4.png      1         1         1_1\n",
       "330  augmented\\cell0505_aug1.png      1         1         1_1\n",
       "385  augmented\\cell1631_aug1.png      1         1         1_1\n",
       "\n",
       "[500 rows x 4 columns]"
      ]
     },
     "execution_count": 92,
     "metadata": {},
     "output_type": "execute_result"
    }
   ],
   "source": [
    "balanced_11  = train[train[\"class_combo\"] == \"1_1\"]\n",
    "\n",
    "augmenter = DataAugmenter(output_dir=\"augmented\", num_augs=5)\n",
    "new_rows_11 = augmenter.augment(balanced_11)\n",
    "balanced_11 = pd.concat([balanced_11, new_rows_11])\n",
    "balanced_11 = balanced_11.sample(n = 500, replace=True, random_state=42)\n",
    "balanced_11"
   ]
  },
  {
   "cell_type": "code",
   "execution_count": 93,
   "id": "3b102f43",
   "metadata": {},
   "outputs": [
    {
     "name": "stdout",
     "output_type": "stream",
     "text": [
      "500\n",
      "500\n",
      "500\n",
      "500\n"
     ]
    }
   ],
   "source": [
    "print(len(balanced_00))\n",
    "print(len(balanced_01))\n",
    "print(len(balanced_10))\n",
    "print(len(balanced_11))"
   ]
  },
  {
   "cell_type": "code",
   "execution_count": 94,
   "id": "1fa879b8",
   "metadata": {},
   "outputs": [],
   "source": [
    "balanced_df = pd.concat([balanced_00, balanced_01, balanced_10, balanced_11], ignore_index=True)"
   ]
  },
  {
   "cell_type": "code",
   "execution_count": 95,
   "id": "78efb3be",
   "metadata": {},
   "outputs": [
    {
     "data": {
      "application/vnd.microsoft.datawrangler.viewer.v0+json": {
       "columns": [
        {
         "name": "index",
         "rawType": "int64",
         "type": "integer"
        },
        {
         "name": "filename",
         "rawType": "object",
         "type": "string"
        },
        {
         "name": "crack",
         "rawType": "int64",
         "type": "integer"
        },
        {
         "name": "inactive",
         "rawType": "int64",
         "type": "integer"
        },
        {
         "name": "class_combo",
         "rawType": "object",
         "type": "string"
        }
       ],
       "ref": "cdda3d13-74da-49a3-b04d-5a68cad596d9",
       "rows": [
        [
         "0",
         "images/cell1445.png",
         "0",
         "0",
         "0_0"
        ],
        [
         "1",
         "images/cell1186.png",
         "0",
         "0",
         "0_0"
        ],
        [
         "2",
         "images/cell1620.png",
         "0",
         "0",
         "0_0"
        ],
        [
         "3",
         "images/cell0300.png",
         "0",
         "0",
         "0_0"
        ],
        [
         "4",
         "images/cell0205.png",
         "0",
         "0",
         "0_0"
        ],
        [
         "5",
         "images/cell1451.png",
         "0",
         "0",
         "0_0"
        ],
        [
         "6",
         "images/cell1170.png",
         "0",
         "0",
         "0_0"
        ],
        [
         "7",
         "images/cell1408.png",
         "0",
         "0",
         "0_0"
        ],
        [
         "8",
         "images/cell1313.png",
         "0",
         "0",
         "0_0"
        ],
        [
         "9",
         "images/cell1038.png",
         "0",
         "0",
         "0_0"
        ],
        [
         "10",
         "images/cell2334.png",
         "0",
         "0",
         "0_0"
        ],
        [
         "11",
         "images/cell2246.png",
         "0",
         "0",
         "0_0"
        ],
        [
         "12",
         "images/cell1536.png",
         "0",
         "0",
         "0_0"
        ],
        [
         "13",
         "images/cell0334.png",
         "0",
         "0",
         "0_0"
        ],
        [
         "14",
         "images/cell0207.png",
         "0",
         "0",
         "0_0"
        ],
        [
         "15",
         "images/cell1733.png",
         "0",
         "0",
         "0_0"
        ],
        [
         "16",
         "images/cell0174.png",
         "0",
         "0",
         "0_0"
        ],
        [
         "17",
         "images/cell2111.png",
         "0",
         "0",
         "0_0"
        ],
        [
         "18",
         "images/cell2198.png",
         "0",
         "0",
         "0_0"
        ],
        [
         "19",
         "images/cell1786.png",
         "0",
         "0",
         "0_0"
        ],
        [
         "20",
         "images/cell2479.png",
         "0",
         "0",
         "0_0"
        ],
        [
         "21",
         "images/cell0216.png",
         "0",
         "0",
         "0_0"
        ],
        [
         "22",
         "images/cell1471.png",
         "0",
         "0",
         "0_0"
        ],
        [
         "23",
         "images/cell2592.png",
         "0",
         "0",
         "0_0"
        ],
        [
         "24",
         "images/cell1072.png",
         "0",
         "0",
         "0_0"
        ],
        [
         "25",
         "images/cell0042.png",
         "0",
         "0",
         "0_0"
        ],
        [
         "26",
         "images/cell1029.png",
         "0",
         "0",
         "0_0"
        ],
        [
         "27",
         "images/cell1277.png",
         "0",
         "0",
         "0_0"
        ],
        [
         "28",
         "images/cell1561.png",
         "0",
         "0",
         "0_0"
        ],
        [
         "29",
         "images/cell2512.png",
         "0",
         "0",
         "0_0"
        ],
        [
         "30",
         "images/cell1898.png",
         "0",
         "0",
         "0_0"
        ],
        [
         "31",
         "images/cell1511.png",
         "0",
         "0",
         "0_0"
        ],
        [
         "32",
         "images/cell1602.png",
         "0",
         "0",
         "0_0"
        ],
        [
         "33",
         "images/cell1511.png",
         "0",
         "0",
         "0_0"
        ],
        [
         "34",
         "images/cell0079.png",
         "0",
         "0",
         "0_0"
        ],
        [
         "35",
         "images/cell1347.png",
         "0",
         "0",
         "0_0"
        ],
        [
         "36",
         "images/cell2595.png",
         "0",
         "0",
         "0_0"
        ],
        [
         "37",
         "images/cell2568.png",
         "0",
         "0",
         "0_0"
        ],
        [
         "38",
         "images/cell1694.png",
         "0",
         "0",
         "0_0"
        ],
        [
         "39",
         "images/cell2405.png",
         "0",
         "0",
         "0_0"
        ],
        [
         "40",
         "images/cell1935.png",
         "0",
         "0",
         "0_0"
        ],
        [
         "41",
         "images/cell1838.png",
         "0",
         "0",
         "0_0"
        ],
        [
         "42",
         "images/cell0827.png",
         "0",
         "0",
         "0_0"
        ],
        [
         "43",
         "images/cell0777.png",
         "0",
         "0",
         "0_0"
        ],
        [
         "44",
         "images/cell1754.png",
         "0",
         "0",
         "0_0"
        ],
        [
         "45",
         "images/cell1177.png",
         "0",
         "0",
         "0_0"
        ],
        [
         "46",
         "images/cell1478.png",
         "0",
         "0",
         "0_0"
        ],
        [
         "47",
         "images/cell0745.png",
         "0",
         "0",
         "0_0"
        ],
        [
         "48",
         "images/cell0094.png",
         "0",
         "0",
         "0_0"
        ],
        [
         "49",
         "images/cell1814.png",
         "0",
         "0",
         "0_0"
        ]
       ],
       "shape": {
        "columns": 4,
        "rows": 2000
       }
      },
      "text/html": [
       "<div>\n",
       "<style scoped>\n",
       "    .dataframe tbody tr th:only-of-type {\n",
       "        vertical-align: middle;\n",
       "    }\n",
       "\n",
       "    .dataframe tbody tr th {\n",
       "        vertical-align: top;\n",
       "    }\n",
       "\n",
       "    .dataframe thead th {\n",
       "        text-align: right;\n",
       "    }\n",
       "</style>\n",
       "<table border=\"1\" class=\"dataframe\">\n",
       "  <thead>\n",
       "    <tr style=\"text-align: right;\">\n",
       "      <th></th>\n",
       "      <th>filename</th>\n",
       "      <th>crack</th>\n",
       "      <th>inactive</th>\n",
       "      <th>class_combo</th>\n",
       "    </tr>\n",
       "  </thead>\n",
       "  <tbody>\n",
       "    <tr>\n",
       "      <th>0</th>\n",
       "      <td>images/cell1445.png</td>\n",
       "      <td>0</td>\n",
       "      <td>0</td>\n",
       "      <td>0_0</td>\n",
       "    </tr>\n",
       "    <tr>\n",
       "      <th>1</th>\n",
       "      <td>images/cell1186.png</td>\n",
       "      <td>0</td>\n",
       "      <td>0</td>\n",
       "      <td>0_0</td>\n",
       "    </tr>\n",
       "    <tr>\n",
       "      <th>2</th>\n",
       "      <td>images/cell1620.png</td>\n",
       "      <td>0</td>\n",
       "      <td>0</td>\n",
       "      <td>0_0</td>\n",
       "    </tr>\n",
       "    <tr>\n",
       "      <th>3</th>\n",
       "      <td>images/cell0300.png</td>\n",
       "      <td>0</td>\n",
       "      <td>0</td>\n",
       "      <td>0_0</td>\n",
       "    </tr>\n",
       "    <tr>\n",
       "      <th>4</th>\n",
       "      <td>images/cell0205.png</td>\n",
       "      <td>0</td>\n",
       "      <td>0</td>\n",
       "      <td>0_0</td>\n",
       "    </tr>\n",
       "    <tr>\n",
       "      <th>...</th>\n",
       "      <td>...</td>\n",
       "      <td>...</td>\n",
       "      <td>...</td>\n",
       "      <td>...</td>\n",
       "    </tr>\n",
       "    <tr>\n",
       "      <th>1995</th>\n",
       "      <td>augmented\\cell1643_aug1.png</td>\n",
       "      <td>1</td>\n",
       "      <td>1</td>\n",
       "      <td>1_1</td>\n",
       "    </tr>\n",
       "    <tr>\n",
       "      <th>1996</th>\n",
       "      <td>augmented\\cell0469_aug3.png</td>\n",
       "      <td>1</td>\n",
       "      <td>1</td>\n",
       "      <td>1_1</td>\n",
       "    </tr>\n",
       "    <tr>\n",
       "      <th>1997</th>\n",
       "      <td>augmented\\cell1668_aug4.png</td>\n",
       "      <td>1</td>\n",
       "      <td>1</td>\n",
       "      <td>1_1</td>\n",
       "    </tr>\n",
       "    <tr>\n",
       "      <th>1998</th>\n",
       "      <td>augmented\\cell0505_aug1.png</td>\n",
       "      <td>1</td>\n",
       "      <td>1</td>\n",
       "      <td>1_1</td>\n",
       "    </tr>\n",
       "    <tr>\n",
       "      <th>1999</th>\n",
       "      <td>augmented\\cell1631_aug1.png</td>\n",
       "      <td>1</td>\n",
       "      <td>1</td>\n",
       "      <td>1_1</td>\n",
       "    </tr>\n",
       "  </tbody>\n",
       "</table>\n",
       "<p>2000 rows × 4 columns</p>\n",
       "</div>"
      ],
      "text/plain": [
       "                         filename  crack  inactive class_combo\n",
       "0             images/cell1445.png      0         0         0_0\n",
       "1             images/cell1186.png      0         0         0_0\n",
       "2             images/cell1620.png      0         0         0_0\n",
       "3             images/cell0300.png      0         0         0_0\n",
       "4             images/cell0205.png      0         0         0_0\n",
       "...                           ...    ...       ...         ...\n",
       "1995  augmented\\cell1643_aug1.png      1         1         1_1\n",
       "1996  augmented\\cell0469_aug3.png      1         1         1_1\n",
       "1997  augmented\\cell1668_aug4.png      1         1         1_1\n",
       "1998  augmented\\cell0505_aug1.png      1         1         1_1\n",
       "1999  augmented\\cell1631_aug1.png      1         1         1_1\n",
       "\n",
       "[2000 rows x 4 columns]"
      ]
     },
     "execution_count": 95,
     "metadata": {},
     "output_type": "execute_result"
    }
   ],
   "source": [
    "balanced_df"
   ]
  },
  {
   "cell_type": "code",
   "execution_count": 98,
   "id": "9910c78e",
   "metadata": {},
   "outputs": [],
   "source": [
    "balanced_df.to_csv(\"data_balanced_aug_train.csv\")\n",
    "val.to_csv(\"data_balanced_aug_val.csv\")"
   ]
  }
 ],
 "metadata": {
  "kernelspec": {
   "display_name": "detect-defect-solar-cells",
   "language": "python",
   "name": "python3"
  },
  "language_info": {
   "codemirror_mode": {
    "name": "ipython",
    "version": 3
   },
   "file_extension": ".py",
   "mimetype": "text/x-python",
   "name": "python",
   "nbconvert_exporter": "python",
   "pygments_lexer": "ipython3",
   "version": "3.7.12"
  }
 },
 "nbformat": 4,
 "nbformat_minor": 5
}
