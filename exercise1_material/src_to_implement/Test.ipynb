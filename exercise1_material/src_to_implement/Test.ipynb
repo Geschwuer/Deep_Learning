{
 "cells": [
  {
   "cell_type": "code",
   "execution_count": 3,
   "id": "645d53c8",
   "metadata": {},
   "outputs": [
    {
     "data": {
      "text/plain": [
       "array([[-1,  1,  3],\n",
       "       [ 2,  3,  6]])"
      ]
     },
     "execution_count": 3,
     "metadata": {},
     "output_type": "execute_result"
    }
   ],
   "source": [
    "prediction_tensor = np.array([[-1,1,3],[2,3,6]])\n",
    "prediction_tensor"
   ]
  },
  {
   "cell_type": "code",
   "execution_count": 2,
   "id": "6f3ece96",
   "metadata": {},
   "outputs": [],
   "source": [
    "import numpy as np\n",
    "import math"
   ]
  },
  {
   "cell_type": "code",
   "execution_count": 5,
   "id": "858b35e8",
   "metadata": {},
   "outputs": [
    {
     "data": {
      "text/plain": [
       "array([[0, 1, 3],\n",
       "       [2, 3, 6]])"
      ]
     },
     "execution_count": 5,
     "metadata": {},
     "output_type": "execute_result"
    }
   ],
   "source": [
    "prediction_tensor[prediction_tensor < 0] = 0\n",
    "prediction_tensor"
   ]
  },
  {
   "cell_type": "code",
   "execution_count": 10,
   "id": "2764b6b5",
   "metadata": {},
   "outputs": [
    {
     "name": "stdout",
     "output_type": "stream",
     "text": [
      "2.220446049250313e-16\n"
     ]
    }
   ],
   "source": [
    "epsilon = np.finfo(float).eps\n",
    "print(epsilon)"
   ]
  },
  {
   "cell_type": "code",
   "execution_count": 13,
   "id": "4fb2efc0",
   "metadata": {},
   "outputs": [
    {
     "data": {
      "text/plain": [
       "array([[2.22044605e-16, 1.00000000e+00, 1.00000000e+00],\n",
       "       [1.00000000e+00, 1.00000000e+00, 1.00000000e+00]])"
      ]
     },
     "execution_count": 13,
     "metadata": {},
     "output_type": "execute_result"
    }
   ],
   "source": [
    "clipped_preds = np.clip(prediction_tensor, epsilon, 1. - epsilon)\n",
    "clipped_preds"
   ]
  },
  {
   "cell_type": "code",
   "execution_count": null,
   "id": "ad248d11",
   "metadata": {},
   "outputs": [],
   "source": [
    "class CrossEntropyLoss:\n",
    "    def __init__(self):\n",
    "        self.prediction_tensor = None\n",
    "        self.label_tensor = None\n",
    "\n",
    "    def forward(self, prediction_tensor, label_tensor):\n",
    "        # Save for backward pass\n",
    "        self.prediction_tensor = prediction_tensor\n",
    "        self.label_tensor = label_tensor\n",
    "\n",
    "        # Avoid log(0) by adding small epsilon\n",
    "        epsilon = 1e-12\n",
    "        clipped_preds = np.clip(prediction_tensor, epsilon, 1. - epsilon)\n",
    "\n",
    "        # Compute batch cross-entropy loss\n",
    "        loss = -np.sum(label_tensor * np.log(clipped_preds)) / prediction_tensor.shape[0]\n",
    "        return loss"
   ]
  },
  {
   "cell_type": "code",
   "execution_count": 35,
   "id": "65aed81d",
   "metadata": {},
   "outputs": [
    {
     "data": {
      "text/plain": [
       "array([[-4, -2,  0],\n",
       "       [-4, -3,  0]])"
      ]
     },
     "execution_count": 35,
     "metadata": {},
     "output_type": "execute_result"
    }
   ],
   "source": [
    "shifted_tensor = input_tensor - np.max(input_tensor, axis=1, keepdims=True)\n",
    "shifted_tensor"
   ]
  },
  {
   "cell_type": "code",
   "execution_count": 50,
   "id": "ce7a6ad6",
   "metadata": {},
   "outputs": [
    {
     "data": {
      "text/plain": [
       "3"
      ]
     },
     "execution_count": 50,
     "metadata": {},
     "output_type": "execute_result"
    }
   ],
   "source": [
    "input_tensor.shape[1]"
   ]
  },
  {
   "cell_type": "code",
   "execution_count": 47,
   "id": "2ad062f4",
   "metadata": {},
   "outputs": [
    {
     "data": {
      "text/plain": [
       "array([-1,  1,  3])"
      ]
     },
     "execution_count": 47,
     "metadata": {},
     "output_type": "execute_result"
    }
   ],
   "source": [
    "input_tensor[0]"
   ]
  },
  {
   "cell_type": "code",
   "execution_count": 64,
   "id": "7ce132a5",
   "metadata": {},
   "outputs": [
    {
     "data": {
      "text/plain": [
       "array([[1.5e-323, 3.0e-323]])"
      ]
     },
     "execution_count": 64,
     "metadata": {},
     "output_type": "execute_result"
    }
   ],
   "source": [
    "output_tensor = np.empty((1,2))\n",
    "output_tensor   "
   ]
  },
  {
   "cell_type": "code",
   "execution_count": 68,
   "id": "468f5a2c",
   "metadata": {},
   "outputs": [
    {
     "data": {
      "text/plain": [
       "array([[0.01587624, 0.11731043, 0.86681333],\n",
       "       [0.01714783, 0.04661262, 0.93623955]])"
      ]
     },
     "execution_count": 68,
     "metadata": {},
     "output_type": "execute_result"
    }
   ],
   "source": [
    "input_tensor\n",
    "output_tensor = np.empty((input_tensor.shape[0], input_tensor.shape[1]))\n",
    "\n",
    "for i in range(input_tensor.shape[0]):\n",
    "    summe = 0\n",
    "    for k in range(input_tensor.shape[1]):\n",
    "        summe += math.exp(input_tensor[i, k])\n",
    "    \n",
    "    for j in range(input_tensor.shape[1]):\n",
    "        output_tensor[i][j] = math.exp(input_tensor[i][j]) / summe\n",
    "\n",
    "output_tensor\n",
    "\n"
   ]
  },
  {
   "cell_type": "code",
   "execution_count": 22,
   "id": "e9226312",
   "metadata": {},
   "outputs": [
    {
     "data": {
      "text/plain": [
       "array([[False,  True,  True],\n",
       "       [ True,  True,  True]])"
      ]
     },
     "execution_count": 22,
     "metadata": {},
     "output_type": "execute_result"
    }
   ],
   "source": [
    "relu_derivative"
   ]
  },
  {
   "cell_type": "code",
   "execution_count": 23,
   "id": "66be938d",
   "metadata": {},
   "outputs": [
    {
     "data": {
      "text/plain": [
       "array([[0, 1, 3],\n",
       "       [2, 3, 6]])"
      ]
     },
     "execution_count": 23,
     "metadata": {},
     "output_type": "execute_result"
    }
   ],
   "source": [
    "input_tensor * relu_derivative"
   ]
  },
  {
   "cell_type": "code",
   "execution_count": 24,
   "id": "75f37016",
   "metadata": {},
   "outputs": [
    {
     "ename": "ValueError",
     "evalue": "matmul: Input operand 1 has a mismatch in its core dimension 0, with gufunc signature (n?,k),(k,m?)->(n?,m?) (size 2 is different from 3)",
     "output_type": "error",
     "traceback": [
      "\u001b[31m---------------------------------------------------------------------------\u001b[39m",
      "\u001b[31mValueError\u001b[39m                                Traceback (most recent call last)",
      "\u001b[36mCell\u001b[39m\u001b[36m \u001b[39m\u001b[32mIn[24]\u001b[39m\u001b[32m, line 1\u001b[39m\n\u001b[32m----> \u001b[39m\u001b[32m1\u001b[39m np.matmul(input_tensor, relu_derivative)\n",
      "\u001b[31mValueError\u001b[39m: matmul: Input operand 1 has a mismatch in its core dimension 0, with gufunc signature (n?,k),(k,m?)->(n?,m?) (size 2 is different from 3)"
     ]
    }
   ],
   "source": [
    "np.matmul(input_tensor, relu_derivative)"
   ]
  },
  {
   "cell_type": "code",
   "execution_count": 16,
   "id": "e6e587ab",
   "metadata": {},
   "outputs": [
    {
     "data": {
      "text/plain": [
       "array([[0, 1, 3],\n",
       "       [2, 3, 6]])"
      ]
     },
     "execution_count": 16,
     "metadata": {},
     "output_type": "execute_result"
    }
   ],
   "source": [
    "input_tensor[input_tensor < 0] = 0\n",
    "input_tensor"
   ]
  },
  {
   "cell_type": "code",
   "execution_count": 10,
   "id": "11278532",
   "metadata": {},
   "outputs": [
    {
     "data": {
      "text/plain": [
       "2"
      ]
     },
     "execution_count": 10,
     "metadata": {},
     "output_type": "execute_result"
    }
   ],
   "source": [
    "input_tensor.shape[0]"
   ]
  },
  {
   "cell_type": "code",
   "execution_count": 24,
   "id": "0445466f",
   "metadata": {},
   "outputs": [],
   "source": [
    "bias_column = np.ones((2,1))"
   ]
  },
  {
   "cell_type": "code",
   "execution_count": 25,
   "id": "a9803933",
   "metadata": {},
   "outputs": [
    {
     "data": {
      "text/plain": [
       "array([[0., 1., 3., 1.],\n",
       "       [2., 3., 6., 1.]])"
      ]
     },
     "execution_count": 25,
     "metadata": {},
     "output_type": "execute_result"
    }
   ],
   "source": [
    "np.hstack((input_tensor, bias_column))"
   ]
  }
 ],
 "metadata": {
  "kernelspec": {
   "display_name": "ml-env",
   "language": "python",
   "name": "python3"
  },
  "language_info": {
   "codemirror_mode": {
    "name": "ipython",
    "version": 3
   },
   "file_extension": ".py",
   "mimetype": "text/x-python",
   "name": "python",
   "nbconvert_exporter": "python",
   "pygments_lexer": "ipython3",
   "version": "3.11.11"
  }
 },
 "nbformat": 4,
 "nbformat_minor": 5
}
